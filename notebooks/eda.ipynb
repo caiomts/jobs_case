{
 "cells": [
  {
   "cell_type": "markdown",
   "id": "bfa7181c-1d4b-4d25-8114-d3bd73c75331",
   "metadata": {},
   "source": [
    "# EDA"
   ]
  },
  {
   "cell_type": "code",
   "execution_count": null,
   "id": "d9036f0d-dcb2-4132-93e5-66608b3302be",
   "metadata": {
    "tags": []
   },
   "outputs": [],
   "source": [
    "from pathlib import Path\n",
    "\n",
    "import pandas as pd\n",
    "import numpy as np\n",
    "from sklearn.feature_extraction.text import CountVectorizer"
   ]
  },
  {
   "cell_type": "markdown",
   "id": "f6f4e3dd-ddca-4d84-870a-b6a0afc94f51",
   "metadata": {},
   "source": [
    "## Reading"
   ]
  },
  {
   "cell_type": "code",
   "execution_count": null,
   "id": "1c526310-f2e8-4b44-b580-d7fed615d137",
   "metadata": {
    "tags": []
   },
   "outputs": [],
   "source": [
    "df_raw = pd.read_csv(Path('../data/raw/dataset.csv'), sep=';')"
   ]
  },
  {
   "cell_type": "code",
   "execution_count": null,
   "id": "a4acb173-65c4-46e6-8122-00fa2e3d5edc",
   "metadata": {
    "tags": []
   },
   "outputs": [],
   "source": [
    "df_raw.head()"
   ]
  },
  {
   "cell_type": "markdown",
   "id": "30858c92-4839-47c8-9d7b-5d0daa2b459f",
   "metadata": {},
   "source": [
    "## Errors"
   ]
  },
  {
   "cell_type": "code",
   "execution_count": null,
   "id": "1eb64b61-73a1-49c5-ba4c-9ad6602b1b3a",
   "metadata": {
    "tags": []
   },
   "outputs": [],
   "source": [
    "df_raw.info()"
   ]
  },
  {
   "cell_type": "code",
   "execution_count": null,
   "id": "d7e6ba6d-9d4d-45e6-99bc-883abf8c18df",
   "metadata": {
    "tags": []
   },
   "outputs": [],
   "source": [
    "df_raw.isna().sum()"
   ]
  },
  {
   "cell_type": "code",
   "execution_count": null,
   "id": "c41e0531-1607-4212-92a2-fa9f5ebb0cf8",
   "metadata": {
    "tags": []
   },
   "outputs": [],
   "source": [
    "df_raw.duplicated(subset='description', keep=False).value_counts()"
   ]
  },
  {
   "cell_type": "code",
   "execution_count": null,
   "id": "81d00b56-ccb0-442a-ab6e-0e12043d544d",
   "metadata": {
    "tags": []
   },
   "outputs": [],
   "source": [
    "df_raw.duplicated(keep=False).value_counts()"
   ]
  },
  {
   "cell_type": "code",
   "execution_count": null,
   "id": "e30eab0a-2e67-4719-b0cf-b83d502372cb",
   "metadata": {
    "tags": []
   },
   "outputs": [],
   "source": [
    "(\n",
    "    df_raw\n",
    "    .duplicated(keep=False)\n",
    "    .compare(df_raw.duplicated(subset='description', keep=False))\n",
    ")"
   ]
  },
  {
   "cell_type": "code",
   "execution_count": null,
   "id": "8a2c6b3d-e03e-4868-a870-f39170b6c4f2",
   "metadata": {
    "tags": []
   },
   "outputs": [],
   "source": [
    "df_raw.iloc[9138]"
   ]
  },
  {
   "cell_type": "code",
   "execution_count": null,
   "id": "42317b92-4ceb-4257-b2f7-970e598f28e4",
   "metadata": {
    "tags": []
   },
   "outputs": [],
   "source": [
    "wrong_label = df_raw.loc[df_raw['description'] == df_raw.iloc[9138, 0]].index"
   ]
  },
  {
   "cell_type": "code",
   "execution_count": null,
   "id": "1a8d2294-fab4-4df0-a5c6-5a91af291897",
   "metadata": {
    "tags": []
   },
   "outputs": [],
   "source": [
    "df_raw['fraudulent'].unique()"
   ]
  },
  {
   "cell_type": "markdown",
   "id": "a8e092bc-493e-4ae9-9cf2-c5c8381f152e",
   "metadata": {},
   "source": [
    "## Cleaning"
   ]
  },
  {
   "cell_type": "code",
   "execution_count": null,
   "id": "13b86b13-ae07-4376-9f36-23f7d7261ad2",
   "metadata": {
    "tags": []
   },
   "outputs": [],
   "source": [
    "df_interim = (\n",
    "    df_raw\n",
    "    .drop(wrong_label)\n",
    "    .dropna(subset='description')\n",
    "    .drop_duplicates()\n",
    "    .reset_index()\n",
    ")"
   ]
  },
  {
   "cell_type": "code",
   "execution_count": null,
   "id": "ecac9496-59c6-477b-8bc0-1bfbe272725a",
   "metadata": {
    "tags": []
   },
   "outputs": [],
   "source": [
    "df_interim.info()"
   ]
  },
  {
   "cell_type": "code",
   "execution_count": null,
   "id": "9d02b2a2-b164-469d-99e3-9c5545d34dfd",
   "metadata": {
    "tags": []
   },
   "outputs": [],
   "source": [
    "df_interim['fraudulent'].value_counts()"
   ]
  },
  {
   "cell_type": "code",
   "execution_count": null,
   "id": "157e5c71-6538-4c8f-bafb-9d1d92cb77f2",
   "metadata": {
    "tags": []
   },
   "outputs": [],
   "source": [
    "df_interim.to_feather(Path('../data/interim/dataset_interim.feather'))"
   ]
  },
  {
   "cell_type": "markdown",
   "id": "2d66adf2-8f3e-424b-a5af-da5ca35c1c0c",
   "metadata": {},
   "source": [
    "## Exploring"
   ]
  },
  {
   "cell_type": "code",
   "execution_count": null,
   "id": "b690e241-b82c-4381-98e3-3be726d4af35",
   "metadata": {
    "tags": []
   },
   "outputs": [],
   "source": [
    "vectorizer = CountVectorizer()\n",
    "X = vectorizer.fit_transform(df_interim['description'])"
   ]
  },
  {
   "cell_type": "code",
   "execution_count": null,
   "id": "bd51af06-22cc-4588-b580-f87b671e5f7a",
   "metadata": {
    "tags": []
   },
   "outputs": [],
   "source": [
    "X.toarray()[0:10]"
   ]
  },
  {
   "cell_type": "code",
   "execution_count": null,
   "id": "4a0d83aa-635a-4810-803b-3c6d9a6ae341",
   "metadata": {
    "tags": []
   },
   "outputs": [],
   "source": [
    "len(vectorizer.get_feature_names_out())"
   ]
  }
 ],
 "metadata": {
  "kernelspec": {
   "display_name": "Python 3 (ipykernel)",
   "language": "python",
   "name": "python3"
  },
  "language_info": {
   "codemirror_mode": {
    "name": "ipython",
    "version": 3
   },
   "file_extension": ".py",
   "mimetype": "text/x-python",
   "name": "python",
   "nbconvert_exporter": "python",
   "pygments_lexer": "ipython3",
   "version": "3.11.1"
  }
 },
 "nbformat": 4,
 "nbformat_minor": 5
}
